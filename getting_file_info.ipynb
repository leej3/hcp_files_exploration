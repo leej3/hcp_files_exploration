{
 "cells": [
  {
   "cell_type": "markdown",
   "metadata": {},
   "source": [
    "## Summary of notebook"
   ]
  },
  {
   "cell_type": "markdown",
   "metadata": {},
   "source": [
    "This notebook:\n",
    "1. With access to the a directory containing the hcp files, creates a pickle for each subject in the output_pklz directory\n",
    "2. Creates a dictionary calls dfs. \n",
    "    + dfs contains a dataframe summarizing the files at two levels of depth in the hcp filetree.\n",
    "    + dfs is written to a small pickled file called 100_subjects.pklz \n",
    "3. Shows a quick summary of the data. Main conclusion is that the bulk of files, which are those contained in the results directories of 'MNINonLinear', were recently accessed."
   ]
  },
  {
   "cell_type": "markdown",
   "metadata": {},
   "source": [
    "## Setup"
   ]
  },
  {
   "cell_type": "code",
   "execution_count": 1,
   "metadata": {
    "collapsed": false
   },
   "outputs": [
    {
     "data": {
      "text/plain": [
       "'/Users/rodgersleejg/Documents/nih/code/hcp_characterization'"
      ]
     },
     "execution_count": 1,
     "metadata": {},
     "output_type": "execute_result"
    }
   ],
   "source": [
    "pwd"
   ]
  },
  {
   "cell_type": "code",
   "execution_count": 2,
   "metadata": {
    "collapsed": true
   },
   "outputs": [],
   "source": [
    "from pathlib import Path\n",
    "import pandas as pd\n",
    "import numpy as np\n",
    "# import seaborn as sns\n",
    "import pickle\n",
    "pd.set_option('display.max_rows', 1000)\n",
    "pd.set_option('display.max_columns', 500)\n",
    "pd.set_option('max_colwidth',500)\n",
    "# %matplotlib inline\n",
    "\n",
    "# dir = {'900':'/data/HCP/HCP_900/s3/hcp/**/*','1200': '/data/HCP/HCP_1200/**/*'}\n",
    "hcp_dir = Path('/data/HCP/HCP_900/s3/hcp')\n",
    "if hcp_dir.exists():\n",
    "    dirs = list(hcp_dir.iterdir())\n",
    "# cols = ['perms','links','user','group','size','year','time','dir']\n",
    "cols = ['size','date','dir']\n",
    "pklz_dir = Path('output_pklz')\n",
    "if not pklz_dir.exists():\n",
    "    # alternatively if subject_pklz.tar.gz exists this could be unpickled\n",
    "    pklz_dir.mkdir()\n"
   ]
  },
  {
   "cell_type": "code",
   "execution_count": 3,
   "metadata": {
    "collapsed": true
   },
   "outputs": [],
   "source": [
    "def get_subdir(d_path):\n",
    "    return d_path.name\n",
    "def get_output_path(d_path):\n",
    "    return Path('output_pklz').joinpath('files_characterization_' + d_path.parent.name + '_' + get_subdir(d_path) + '.pklz')\n",
    "def write_tsv_with_atimes_and_size(d_path):\n",
    "        #     -lu gives access time\n",
    "    #     -d1 gives just the file/dir instead of the contents\n",
    "    #     the glob pattern provides all the files/dirs\n",
    "    #     the awk command turns it into tab separated output\n",
    "    # need to have globstar set to on in bash: shopt -s globstar\n",
    "    output_file = get_output_path(d_path)\n",
    "    print(d_path.as_posix() + '/**/*')\n",
    "    ! shopt -s globstar;ls -lu -d1  --time-style long-iso {d_path.as_posix() + '/**/*'}| awk -v OFS=\"\\t\" '$1=$1'|cut -f5,6,8 > {output_file.with_suffix('.tsv')}\n"
   ]
  },
  {
   "cell_type": "markdown",
   "metadata": {},
   "source": [
    "## Write pickle for every subject"
   ]
  },
  {
   "cell_type": "markdown",
   "metadata": {},
   "source": [
    "The below cell was used to generate a tsv file for each subject:"
   ]
  },
  {
   "cell_type": "raw",
   "metadata": {},
   "source": [
    "# dir = {'test': '/data/HCP/HCP_1200/download_swarm/**/*'}\n",
    "for d_path in dirs:\n",
    "    output_file = get_output_path(d_path)\n",
    "    if not output_file.exists():\n",
    "        write_tsv_with_atimes_and_size(d_path)\n",
    "        df = pd.read_csv(output_file.with_suffix('.tsv'),sep = '\\t',names=cols, dtype = {'size':np.int32,'date':str,'dir' : str })\n",
    "        df.to_pickle(output_file)\n",
    "        output_file.with_suffix('.tsv').unlink()"
   ]
  },
  {
   "cell_type": "markdown",
   "metadata": {},
   "source": [
    "The output pickles were subsequently tarred:\n",
    "tar -czvf subject_pklz.tar.gz output_pklz"
   ]
  },
  {
   "cell_type": "markdown",
   "metadata": {},
   "source": [
    "## Load 100 random subjects and assess the access times in their file trees."
   ]
  },
  {
   "cell_type": "markdown",
   "metadata": {},
   "source": [
    "### Define helper functions:"
   ]
  },
  {
   "cell_type": "code",
   "execution_count": 4,
   "metadata": {
    "collapsed": true
   },
   "outputs": [],
   "source": [
    "def get_least_common_value(series):\n",
    "    return series[series.apply(len).idxmin()]\n",
    "def get_dir_level_summary(df,level = 7):\n",
    "    df_grouped = (\n",
    "        df.loc[pd.notnull(df[level+ 1]) ,:].\n",
    "        groupby(list(range(level + 1)))\n",
    "    )\n",
    "    df = (\n",
    "        df_grouped.\n",
    "        aggregate({'date':max,'size': sum, 'file':len,'parent_dir' : lambda x :get_least_common_value(x)}).\n",
    "        assign(total_size_gb = lambda df: round(df['size'] /1000000000,3)).\n",
    "        rename(columns = {'date':'most_recent_access',\n",
    "                     'file' : 'num_files'}).\n",
    "#         reset_index(drop = True).\n",
    "        assign(tree_depth = level)\n",
    "        \n",
    "    )\n",
    "    return df\n",
    "\n",
    "# from IPython.core.debugger import Pdb; ipdb=Pdb()\n",
    "# ipdb.runcall(get_dir_level_summary, df_split, 8)\n",
    "\n",
    "# test = pd.concat([df_sub.head(100), df_sub.head(100).file.str.split('/',expand = True)], axis = 1)\n",
    "# get_dir_level_summary(test, 7)"
   ]
  },
  {
   "cell_type": "code",
   "execution_count": 5,
   "metadata": {
    "collapsed": true
   },
   "outputs": [],
   "source": [
    "def summarise_subject_info(pickle_path,num_subs=3,levels=[7],dirs=None):\n",
    "    pickle_path = Path(pickle_path)\n",
    "    dfs = {}\n",
    "    dfs_full = {}\n",
    "    if not pickle_path.exists():\n",
    "        for d_path in np.random.choice( dirs, num_subs):\n",
    "            output_file = get_output_path(d_path)\n",
    "            df_sub = pd.read_pickle(output_file)\n",
    "            df_sub = df_sub.rename(columns = {'dir' : 'file'})\n",
    "            df_sub['subject'] = d_path.name\n",
    "            df_sub['is_file'] = df_sub.file.apply(lambda x: Path(x).is_file())\n",
    "            df_sub['parent_dir'] = df_sub.file.apply(lambda x:'/'.join(x.split('/')[:-1]))\n",
    "#             Create columns representing depth into the file tree to group across them:\n",
    "            df_sub = pd.concat([df_sub, df_sub.file.str.split('/',expand = True)], axis = 1)\n",
    "            \n",
    "            for lev in levels:\n",
    "                dfs[lev] = get_dir_level_summary(df_sub, lev)\n",
    "\n",
    "                if lev in dfs_full.keys():\n",
    "                    dfs_full[lev]  = pd.concat([dfs_full[lev],dfs[lev]],axis = 0)\n",
    "                else:\n",
    "                    dfs_full[lev] = dfs[lev].copy()\n",
    "\n",
    "        pickle.dump(dfs_full, open(pickle_path.as_posix(), \"wb\"))\n",
    "    else: dfs_full = pickle.load(open(pickle_path.as_posix(), \"rb\"))\n",
    "    return dfs_full\n",
    "\n",
    "# directory of output pickles required:\n",
    "# tar xvf subject_pklz.tar.gz output_pklz"
   ]
  },
  {
   "cell_type": "markdown",
   "metadata": {},
   "source": [
    "## Create merged dataframes"
   ]
  },
  {
   "cell_type": "markdown",
   "metadata": {},
   "source": [
    "The code below creates a dictionary of dataframes. Each dataframe contains a summary of files at the depth into the tree:"
   ]
  },
  {
   "cell_type": "code",
   "execution_count": 6,
   "metadata": {
    "collapsed": false
   },
   "outputs": [],
   "source": [
    "dfs = summarise_subject_info(Path('100_subjects_with_10.pklz'), num_subs= 100, levels=[7,9,10])"
   ]
  },
  {
   "cell_type": "code",
   "execution_count": 7,
   "metadata": {
    "collapsed": false
   },
   "outputs": [
    {
     "data": {
      "text/html": [
       "<div>\n",
       "<style>\n",
       "    .dataframe thead tr:only-child th {\n",
       "        text-align: right;\n",
       "    }\n",
       "\n",
       "    .dataframe thead th {\n",
       "        text-align: left;\n",
       "    }\n",
       "\n",
       "    .dataframe tbody tr th {\n",
       "        vertical-align: top;\n",
       "    }\n",
       "</style>\n",
       "<table border=\"1\" class=\"dataframe\">\n",
       "  <thead>\n",
       "    <tr style=\"text-align: right;\">\n",
       "      <th></th>\n",
       "      <th></th>\n",
       "      <th></th>\n",
       "      <th></th>\n",
       "      <th></th>\n",
       "      <th></th>\n",
       "      <th></th>\n",
       "      <th></th>\n",
       "      <th>most_recent_access</th>\n",
       "      <th>size</th>\n",
       "      <th>num_files</th>\n",
       "      <th>parent_dir</th>\n",
       "      <th>total_size_gb</th>\n",
       "      <th>tree_depth</th>\n",
       "    </tr>\n",
       "    <tr>\n",
       "      <th>0</th>\n",
       "      <th>1</th>\n",
       "      <th>2</th>\n",
       "      <th>3</th>\n",
       "      <th>4</th>\n",
       "      <th>5</th>\n",
       "      <th>6</th>\n",
       "      <th>7</th>\n",
       "      <th></th>\n",
       "      <th></th>\n",
       "      <th></th>\n",
       "      <th></th>\n",
       "      <th></th>\n",
       "      <th></th>\n",
       "    </tr>\n",
       "  </thead>\n",
       "  <tbody>\n",
       "    <tr>\n",
       "      <th rowspan=\"5\" valign=\"top\"></th>\n",
       "      <th rowspan=\"5\" valign=\"top\">data</th>\n",
       "      <th rowspan=\"5\" valign=\"top\">HCP</th>\n",
       "      <th rowspan=\"5\" valign=\"top\">HCP_900</th>\n",
       "      <th rowspan=\"5\" valign=\"top\">s3</th>\n",
       "      <th rowspan=\"5\" valign=\"top\">hcp</th>\n",
       "      <th rowspan=\"4\" valign=\"top\">178748</th>\n",
       "      <th>MNINonLinear</th>\n",
       "      <td>2017-11-16</td>\n",
       "      <td>5.616766e+10</td>\n",
       "      <td>16493</td>\n",
       "      <td>/data/HCP/HCP_900/s3/hcp/178748/MNINonLinear</td>\n",
       "      <td>56.168</td>\n",
       "      <td>7</td>\n",
       "    </tr>\n",
       "    <tr>\n",
       "      <th>T1w</th>\n",
       "      <td>2017-11-16</td>\n",
       "      <td>9.631565e+09</td>\n",
       "      <td>499</td>\n",
       "      <td>/data/HCP/HCP_900/s3/hcp/178748/T1w</td>\n",
       "      <td>9.632</td>\n",
       "      <td>7</td>\n",
       "    </tr>\n",
       "    <tr>\n",
       "      <th>release-notes</th>\n",
       "      <td>2017-04-06</td>\n",
       "      <td>4.909800e+04</td>\n",
       "      <td>54</td>\n",
       "      <td>/data/HCP/HCP_900/s3/hcp/178748/release-notes</td>\n",
       "      <td>0.000</td>\n",
       "      <td>7</td>\n",
       "    </tr>\n",
       "    <tr>\n",
       "      <th>unprocessed</th>\n",
       "      <td>2017-11-16</td>\n",
       "      <td>1.184728e+10</td>\n",
       "      <td>381</td>\n",
       "      <td>/data/HCP/HCP_900/s3/hcp/178748/unprocessed</td>\n",
       "      <td>11.847</td>\n",
       "      <td>7</td>\n",
       "    </tr>\n",
       "    <tr>\n",
       "      <th>200008</th>\n",
       "      <th>MNINonLinear</th>\n",
       "      <td>2017-11-16</td>\n",
       "      <td>5.170944e+10</td>\n",
       "      <td>12037</td>\n",
       "      <td>/data/HCP/HCP_900/s3/hcp/200008/MNINonLinear</td>\n",
       "      <td>51.709</td>\n",
       "      <td>7</td>\n",
       "    </tr>\n",
       "  </tbody>\n",
       "</table>\n",
       "</div>"
      ],
      "text/plain": [
       "                                               most_recent_access  \\\n",
       "0 1    2   3       4  5   6      7                                  \n",
       "  data HCP HCP_900 s3 hcp 178748 MNINonLinear          2017-11-16   \n",
       "                                 T1w                   2017-11-16   \n",
       "                                 release-notes         2017-04-06   \n",
       "                                 unprocessed           2017-11-16   \n",
       "                          200008 MNINonLinear          2017-11-16   \n",
       "\n",
       "                                                        size  num_files  \\\n",
       "0 1    2   3       4  5   6      7                                        \n",
       "  data HCP HCP_900 s3 hcp 178748 MNINonLinear   5.616766e+10      16493   \n",
       "                                 T1w            9.631565e+09        499   \n",
       "                                 release-notes  4.909800e+04         54   \n",
       "                                 unprocessed    1.184728e+10        381   \n",
       "                          200008 MNINonLinear   5.170944e+10      12037   \n",
       "\n",
       "                                                                                   parent_dir  \\\n",
       "0 1    2   3       4  5   6      7                                                              \n",
       "  data HCP HCP_900 s3 hcp 178748 MNINonLinear    /data/HCP/HCP_900/s3/hcp/178748/MNINonLinear   \n",
       "                                 T1w                      /data/HCP/HCP_900/s3/hcp/178748/T1w   \n",
       "                                 release-notes  /data/HCP/HCP_900/s3/hcp/178748/release-notes   \n",
       "                                 unprocessed      /data/HCP/HCP_900/s3/hcp/178748/unprocessed   \n",
       "                          200008 MNINonLinear    /data/HCP/HCP_900/s3/hcp/200008/MNINonLinear   \n",
       "\n",
       "                                                total_size_gb  tree_depth  \n",
       "0 1    2   3       4  5   6      7                                         \n",
       "  data HCP HCP_900 s3 hcp 178748 MNINonLinear          56.168           7  \n",
       "                                 T1w                    9.632           7  \n",
       "                                 release-notes          0.000           7  \n",
       "                                 unprocessed           11.847           7  \n",
       "                          200008 MNINonLinear          51.709           7  "
      ]
     },
     "execution_count": 7,
     "metadata": {},
     "output_type": "execute_result"
    }
   ],
   "source": [
    "dfs[7].head()\n"
   ]
  },
  {
   "cell_type": "code",
   "execution_count": 8,
   "metadata": {
    "collapsed": false
   },
   "outputs": [
    {
     "data": {
      "text/html": [
       "<div>\n",
       "<style>\n",
       "    .dataframe thead tr:only-child th {\n",
       "        text-align: right;\n",
       "    }\n",
       "\n",
       "    .dataframe thead th {\n",
       "        text-align: left;\n",
       "    }\n",
       "\n",
       "    .dataframe tbody tr th {\n",
       "        vertical-align: top;\n",
       "    }\n",
       "</style>\n",
       "<table border=\"1\" class=\"dataframe\">\n",
       "  <thead>\n",
       "    <tr style=\"text-align: right;\">\n",
       "      <th></th>\n",
       "      <th></th>\n",
       "      <th></th>\n",
       "      <th></th>\n",
       "      <th></th>\n",
       "      <th></th>\n",
       "      <th></th>\n",
       "      <th></th>\n",
       "      <th></th>\n",
       "      <th></th>\n",
       "      <th>most_recent_access</th>\n",
       "      <th>size</th>\n",
       "      <th>num_files</th>\n",
       "      <th>parent_dir</th>\n",
       "      <th>total_size_gb</th>\n",
       "      <th>tree_depth</th>\n",
       "    </tr>\n",
       "    <tr>\n",
       "      <th>0</th>\n",
       "      <th>1</th>\n",
       "      <th>2</th>\n",
       "      <th>3</th>\n",
       "      <th>4</th>\n",
       "      <th>5</th>\n",
       "      <th>6</th>\n",
       "      <th>7</th>\n",
       "      <th>8</th>\n",
       "      <th>9</th>\n",
       "      <th></th>\n",
       "      <th></th>\n",
       "      <th></th>\n",
       "      <th></th>\n",
       "      <th></th>\n",
       "      <th></th>\n",
       "    </tr>\n",
       "  </thead>\n",
       "  <tbody>\n",
       "    <tr>\n",
       "      <th rowspan=\"5\" valign=\"top\"></th>\n",
       "      <th rowspan=\"5\" valign=\"top\">data</th>\n",
       "      <th rowspan=\"5\" valign=\"top\">HCP</th>\n",
       "      <th rowspan=\"5\" valign=\"top\">HCP_900</th>\n",
       "      <th rowspan=\"5\" valign=\"top\">s3</th>\n",
       "      <th rowspan=\"5\" valign=\"top\">hcp</th>\n",
       "      <th rowspan=\"5\" valign=\"top\">178748</th>\n",
       "      <th rowspan=\"5\" valign=\"top\">MNINonLinear</th>\n",
       "      <th rowspan=\"5\" valign=\"top\">Results</th>\n",
       "      <th>rfMRI_REST1_LR</th>\n",
       "      <td>2017-11-16</td>\n",
       "      <td>8.354434e+09</td>\n",
       "      <td>1534</td>\n",
       "      <td>/data/HCP/HCP_900/s3/hcp/178748/MNINonLinear/Results/rfMRI_REST1_LR</td>\n",
       "      <td>8.354</td>\n",
       "      <td>9</td>\n",
       "    </tr>\n",
       "    <tr>\n",
       "      <th>rfMRI_REST1_RL</th>\n",
       "      <td>2017-11-16</td>\n",
       "      <td>8.266014e+09</td>\n",
       "      <td>1404</td>\n",
       "      <td>/data/HCP/HCP_900/s3/hcp/178748/MNINonLinear/Results/rfMRI_REST1_RL</td>\n",
       "      <td>8.266</td>\n",
       "      <td>9</td>\n",
       "    </tr>\n",
       "    <tr>\n",
       "      <th>rfMRI_REST2_LR</th>\n",
       "      <td>2017-11-16</td>\n",
       "      <td>8.322172e+09</td>\n",
       "      <td>1484</td>\n",
       "      <td>/data/HCP/HCP_900/s3/hcp/178748/MNINonLinear/Results/rfMRI_REST2_LR</td>\n",
       "      <td>8.322</td>\n",
       "      <td>9</td>\n",
       "    </tr>\n",
       "    <tr>\n",
       "      <th>rfMRI_REST2_RL</th>\n",
       "      <td>2017-11-16</td>\n",
       "      <td>8.463622e+09</td>\n",
       "      <td>1664</td>\n",
       "      <td>/data/HCP/HCP_900/s3/hcp/178748/MNINonLinear/Results/rfMRI_REST2_RL</td>\n",
       "      <td>8.464</td>\n",
       "      <td>9</td>\n",
       "    </tr>\n",
       "    <tr>\n",
       "      <th>tfMRI_EMOTION</th>\n",
       "      <td>2017-11-16</td>\n",
       "      <td>5.491697e+08</td>\n",
       "      <td>712</td>\n",
       "      <td>/data/HCP/HCP_900/s3/hcp/178748/MNINonLinear/Results/tfMRI_EMOTION</td>\n",
       "      <td>0.549</td>\n",
       "      <td>9</td>\n",
       "    </tr>\n",
       "  </tbody>\n",
       "</table>\n",
       "</div>"
      ],
      "text/plain": [
       "                                                                     most_recent_access  \\\n",
       "0 1    2   3       4  5   6      7            8       9                                   \n",
       "  data HCP HCP_900 s3 hcp 178748 MNINonLinear Results rfMRI_REST1_LR         2017-11-16   \n",
       "                                                      rfMRI_REST1_RL         2017-11-16   \n",
       "                                                      rfMRI_REST2_LR         2017-11-16   \n",
       "                                                      rfMRI_REST2_RL         2017-11-16   \n",
       "                                                      tfMRI_EMOTION          2017-11-16   \n",
       "\n",
       "                                                                              size  \\\n",
       "0 1    2   3       4  5   6      7            8       9                              \n",
       "  data HCP HCP_900 s3 hcp 178748 MNINonLinear Results rfMRI_REST1_LR  8.354434e+09   \n",
       "                                                      rfMRI_REST1_RL  8.266014e+09   \n",
       "                                                      rfMRI_REST2_LR  8.322172e+09   \n",
       "                                                      rfMRI_REST2_RL  8.463622e+09   \n",
       "                                                      tfMRI_EMOTION   5.491697e+08   \n",
       "\n",
       "                                                                      num_files  \\\n",
       "0 1    2   3       4  5   6      7            8       9                           \n",
       "  data HCP HCP_900 s3 hcp 178748 MNINonLinear Results rfMRI_REST1_LR       1534   \n",
       "                                                      rfMRI_REST1_RL       1404   \n",
       "                                                      rfMRI_REST2_LR       1484   \n",
       "                                                      rfMRI_REST2_RL       1664   \n",
       "                                                      tfMRI_EMOTION         712   \n",
       "\n",
       "                                                                                                                               parent_dir  \\\n",
       "0 1    2   3       4  5   6      7            8       9                                                                                     \n",
       "  data HCP HCP_900 s3 hcp 178748 MNINonLinear Results rfMRI_REST1_LR  /data/HCP/HCP_900/s3/hcp/178748/MNINonLinear/Results/rfMRI_REST1_LR   \n",
       "                                                      rfMRI_REST1_RL  /data/HCP/HCP_900/s3/hcp/178748/MNINonLinear/Results/rfMRI_REST1_RL   \n",
       "                                                      rfMRI_REST2_LR  /data/HCP/HCP_900/s3/hcp/178748/MNINonLinear/Results/rfMRI_REST2_LR   \n",
       "                                                      rfMRI_REST2_RL  /data/HCP/HCP_900/s3/hcp/178748/MNINonLinear/Results/rfMRI_REST2_RL   \n",
       "                                                      tfMRI_EMOTION    /data/HCP/HCP_900/s3/hcp/178748/MNINonLinear/Results/tfMRI_EMOTION   \n",
       "\n",
       "                                                                      total_size_gb  \\\n",
       "0 1    2   3       4  5   6      7            8       9                               \n",
       "  data HCP HCP_900 s3 hcp 178748 MNINonLinear Results rfMRI_REST1_LR          8.354   \n",
       "                                                      rfMRI_REST1_RL          8.266   \n",
       "                                                      rfMRI_REST2_LR          8.322   \n",
       "                                                      rfMRI_REST2_RL          8.464   \n",
       "                                                      tfMRI_EMOTION           0.549   \n",
       "\n",
       "                                                                      tree_depth  \n",
       "0 1    2   3       4  5   6      7            8       9                           \n",
       "  data HCP HCP_900 s3 hcp 178748 MNINonLinear Results rfMRI_REST1_LR           9  \n",
       "                                                      rfMRI_REST1_RL           9  \n",
       "                                                      rfMRI_REST2_LR           9  \n",
       "                                                      rfMRI_REST2_RL           9  \n",
       "                                                      tfMRI_EMOTION            9  "
      ]
     },
     "execution_count": 8,
     "metadata": {},
     "output_type": "execute_result"
    }
   ],
   "source": [
    "dfs[9].head()\n"
   ]
  },
  {
   "cell_type": "code",
   "execution_count": 9,
   "metadata": {
    "collapsed": false
   },
   "outputs": [
    {
     "data": {
      "text/html": [
       "<div>\n",
       "<style>\n",
       "    .dataframe thead tr:only-child th {\n",
       "        text-align: right;\n",
       "    }\n",
       "\n",
       "    .dataframe thead th {\n",
       "        text-align: left;\n",
       "    }\n",
       "\n",
       "    .dataframe tbody tr th {\n",
       "        vertical-align: top;\n",
       "    }\n",
       "</style>\n",
       "<table border=\"1\" class=\"dataframe\">\n",
       "  <thead>\n",
       "    <tr style=\"text-align: right;\">\n",
       "      <th></th>\n",
       "      <th></th>\n",
       "      <th></th>\n",
       "      <th></th>\n",
       "      <th></th>\n",
       "      <th></th>\n",
       "      <th></th>\n",
       "      <th></th>\n",
       "      <th></th>\n",
       "      <th></th>\n",
       "      <th></th>\n",
       "      <th>most_recent_access</th>\n",
       "      <th>size</th>\n",
       "      <th>num_files</th>\n",
       "      <th>parent_dir</th>\n",
       "      <th>total_size_gb</th>\n",
       "      <th>tree_depth</th>\n",
       "    </tr>\n",
       "    <tr>\n",
       "      <th>0</th>\n",
       "      <th>1</th>\n",
       "      <th>2</th>\n",
       "      <th>3</th>\n",
       "      <th>4</th>\n",
       "      <th>5</th>\n",
       "      <th>6</th>\n",
       "      <th>7</th>\n",
       "      <th>8</th>\n",
       "      <th>9</th>\n",
       "      <th>10</th>\n",
       "      <th></th>\n",
       "      <th></th>\n",
       "      <th></th>\n",
       "      <th></th>\n",
       "      <th></th>\n",
       "      <th></th>\n",
       "    </tr>\n",
       "  </thead>\n",
       "  <tbody>\n",
       "    <tr>\n",
       "      <th rowspan=\"5\" valign=\"top\"></th>\n",
       "      <th rowspan=\"5\" valign=\"top\">data</th>\n",
       "      <th rowspan=\"5\" valign=\"top\">HCP</th>\n",
       "      <th rowspan=\"5\" valign=\"top\">HCP_900</th>\n",
       "      <th rowspan=\"5\" valign=\"top\">s3</th>\n",
       "      <th rowspan=\"5\" valign=\"top\">hcp</th>\n",
       "      <th rowspan=\"5\" valign=\"top\">178748</th>\n",
       "      <th rowspan=\"5\" valign=\"top\">MNINonLinear</th>\n",
       "      <th rowspan=\"5\" valign=\"top\">Results</th>\n",
       "      <th rowspan=\"4\" valign=\"top\">rfMRI_REST1_LR</th>\n",
       "      <th>RestingStateStats</th>\n",
       "      <td>2017-04-06</td>\n",
       "      <td>84586500</td>\n",
       "      <td>52</td>\n",
       "      <td>/data/HCP/HCP_900/s3/hcp/178748/MNINonLinear/Results/rfMRI_REST1_LR/RestingStateStats</td>\n",
       "      <td>0.085</td>\n",
       "      <td>10</td>\n",
       "    </tr>\n",
       "    <tr>\n",
       "      <th>RibbonVolumeToSurfaceMapping</th>\n",
       "      <td>2017-04-06</td>\n",
       "      <td>50389</td>\n",
       "      <td>1</td>\n",
       "      <td>/data/HCP/HCP_900/s3/hcp/178748/MNINonLinear/Results/rfMRI_REST1_LR/RibbonVolumeToSurfaceMapping</td>\n",
       "      <td>0.000</td>\n",
       "      <td>10</td>\n",
       "    </tr>\n",
       "    <tr>\n",
       "      <th>rfMRI_REST1_LR</th>\n",
       "      <td>2017-11-16</td>\n",
       "      <td>110857036</td>\n",
       "      <td>59</td>\n",
       "      <td>/data/HCP/HCP_900/s3/hcp/178748/MNINonLinear/Results/rfMRI_REST1_LR/rfMRI_REST1_LR</td>\n",
       "      <td>0.111</td>\n",
       "      <td>10</td>\n",
       "    </tr>\n",
       "    <tr>\n",
       "      <th>rfMRI_REST1_LR_hp2000.ica</th>\n",
       "      <td>2017-11-16</td>\n",
       "      <td>1027505181</td>\n",
       "      <td>1331</td>\n",
       "      <td>/data/HCP/HCP_900/s3/hcp/178748/MNINonLinear/Results/rfMRI_REST1_LR/rfMRI_REST1_LR_hp2000.ica</td>\n",
       "      <td>1.028</td>\n",
       "      <td>10</td>\n",
       "    </tr>\n",
       "    <tr>\n",
       "      <th>rfMRI_REST1_RL</th>\n",
       "      <th>RestingStateStats</th>\n",
       "      <td>2017-04-06</td>\n",
       "      <td>86634343</td>\n",
       "      <td>52</td>\n",
       "      <td>/data/HCP/HCP_900/s3/hcp/178748/MNINonLinear/Results/rfMRI_REST1_RL/RestingStateStats</td>\n",
       "      <td>0.087</td>\n",
       "      <td>10</td>\n",
       "    </tr>\n",
       "  </tbody>\n",
       "</table>\n",
       "</div>"
      ],
      "text/plain": [
       "                                                                                                  most_recent_access  \\\n",
       "0 1    2   3       4  5   6      7            8       9              10                                                \n",
       "  data HCP HCP_900 s3 hcp 178748 MNINonLinear Results rfMRI_REST1_LR RestingStateStats                    2017-04-06   \n",
       "                                                                     RibbonVolumeToSurfaceMapping         2017-04-06   \n",
       "                                                                     rfMRI_REST1_LR                       2017-11-16   \n",
       "                                                                     rfMRI_REST1_LR_hp2000.ica            2017-11-16   \n",
       "                                                      rfMRI_REST1_RL RestingStateStats                    2017-04-06   \n",
       "\n",
       "                                                                                                         size  \\\n",
       "0 1    2   3       4  5   6      7            8       9              10                                         \n",
       "  data HCP HCP_900 s3 hcp 178748 MNINonLinear Results rfMRI_REST1_LR RestingStateStats               84586500   \n",
       "                                                                     RibbonVolumeToSurfaceMapping       50389   \n",
       "                                                                     rfMRI_REST1_LR                 110857036   \n",
       "                                                                     rfMRI_REST1_LR_hp2000.ica     1027505181   \n",
       "                                                      rfMRI_REST1_RL RestingStateStats               86634343   \n",
       "\n",
       "                                                                                                   num_files  \\\n",
       "0 1    2   3       4  5   6      7            8       9              10                                        \n",
       "  data HCP HCP_900 s3 hcp 178748 MNINonLinear Results rfMRI_REST1_LR RestingStateStats                    52   \n",
       "                                                                     RibbonVolumeToSurfaceMapping          1   \n",
       "                                                                     rfMRI_REST1_LR                       59   \n",
       "                                                                     rfMRI_REST1_LR_hp2000.ica          1331   \n",
       "                                                      rfMRI_REST1_RL RestingStateStats                    52   \n",
       "\n",
       "                                                                                                                                                                                         parent_dir  \\\n",
       "0 1    2   3       4  5   6      7            8       9              10                                                                                                                               \n",
       "  data HCP HCP_900 s3 hcp 178748 MNINonLinear Results rfMRI_REST1_LR RestingStateStats                        /data/HCP/HCP_900/s3/hcp/178748/MNINonLinear/Results/rfMRI_REST1_LR/RestingStateStats   \n",
       "                                                                     RibbonVolumeToSurfaceMapping  /data/HCP/HCP_900/s3/hcp/178748/MNINonLinear/Results/rfMRI_REST1_LR/RibbonVolumeToSurfaceMapping   \n",
       "                                                                     rfMRI_REST1_LR                              /data/HCP/HCP_900/s3/hcp/178748/MNINonLinear/Results/rfMRI_REST1_LR/rfMRI_REST1_LR   \n",
       "                                                                     rfMRI_REST1_LR_hp2000.ica        /data/HCP/HCP_900/s3/hcp/178748/MNINonLinear/Results/rfMRI_REST1_LR/rfMRI_REST1_LR_hp2000.ica   \n",
       "                                                      rfMRI_REST1_RL RestingStateStats                        /data/HCP/HCP_900/s3/hcp/178748/MNINonLinear/Results/rfMRI_REST1_RL/RestingStateStats   \n",
       "\n",
       "                                                                                                   total_size_gb  \\\n",
       "0 1    2   3       4  5   6      7            8       9              10                                            \n",
       "  data HCP HCP_900 s3 hcp 178748 MNINonLinear Results rfMRI_REST1_LR RestingStateStats                     0.085   \n",
       "                                                                     RibbonVolumeToSurfaceMapping          0.000   \n",
       "                                                                     rfMRI_REST1_LR                        0.111   \n",
       "                                                                     rfMRI_REST1_LR_hp2000.ica             1.028   \n",
       "                                                      rfMRI_REST1_RL RestingStateStats                     0.087   \n",
       "\n",
       "                                                                                                   tree_depth  \n",
       "0 1    2   3       4  5   6      7            8       9              10                                        \n",
       "  data HCP HCP_900 s3 hcp 178748 MNINonLinear Results rfMRI_REST1_LR RestingStateStats                     10  \n",
       "                                                                     RibbonVolumeToSurfaceMapping          10  \n",
       "                                                                     rfMRI_REST1_LR                        10  \n",
       "                                                                     rfMRI_REST1_LR_hp2000.ica             10  \n",
       "                                                      rfMRI_REST1_RL RestingStateStats                     10  "
      ]
     },
     "execution_count": 9,
     "metadata": {},
     "output_type": "execute_result"
    }
   ],
   "source": [
    "dfs[10].head()\n"
   ]
  },
  {
   "cell_type": "markdown",
   "metadata": {},
   "source": [
    "## Size of 'MNINonLinear' results directories"
   ]
  },
  {
   "cell_type": "markdown",
   "metadata": {},
   "source": [
    "Most of the disk space of the hpc dataset is used up by the results directory in the 'MNINonLinear' directory."
   ]
  },
  {
   "cell_type": "markdown",
   "metadata": {},
   "source": [
    "For all 100 subjects all the files have a size (in GB) of:"
   ]
  },
  {
   "cell_type": "code",
   "execution_count": 10,
   "metadata": {
    "collapsed": false
   },
   "outputs": [
    {
     "data": {
      "text/plain": [
       "7683.5219999999999"
      ]
     },
     "execution_count": 10,
     "metadata": {},
     "output_type": "execute_result"
    }
   ],
   "source": [
    "dfs[9].loc['','data','HCP','HCP_900','s3','hcp',:,:]['total_size_gb'].sum()"
   ]
  },
  {
   "cell_type": "markdown",
   "metadata": {},
   "source": [
    "For all 100 subjects MNINonLinear results files have a size (in GB) of:"
   ]
  },
  {
   "cell_type": "code",
   "execution_count": 11,
   "metadata": {
    "collapsed": false
   },
   "outputs": [
    {
     "data": {
      "text/plain": [
       "5052.2399999999998"
      ]
     },
     "execution_count": 11,
     "metadata": {},
     "output_type": "execute_result"
    }
   ],
   "source": [
    "dfs[9].loc['','data','HCP','HCP_900','s3','hcp',:,'MNINonLinear']['total_size_gb'].sum()"
   ]
  },
  {
   "cell_type": "markdown",
   "metadata": {},
   "source": [
    "## Most recent access times in the MNINonLinear results directories"
   ]
  },
  {
   "cell_type": "markdown",
   "metadata": {},
   "source": [
    "9 levels deep in the tree all directories in MNINonLinear/*/Results have been accessed recently. This is the bulk of the data in the HCP dataset."
   ]
  },
  {
   "cell_type": "code",
   "execution_count": 12,
   "metadata": {
    "collapsed": false
   },
   "outputs": [
    {
     "data": {
      "text/html": [
       "<div>\n",
       "<style>\n",
       "    .dataframe thead tr:only-child th {\n",
       "        text-align: right;\n",
       "    }\n",
       "\n",
       "    .dataframe thead th {\n",
       "        text-align: left;\n",
       "    }\n",
       "\n",
       "    .dataframe tbody tr th {\n",
       "        vertical-align: top;\n",
       "    }\n",
       "</style>\n",
       "<table border=\"1\" class=\"dataframe\">\n",
       "  <thead>\n",
       "    <tr style=\"text-align: right;\">\n",
       "      <th></th>\n",
       "      <th></th>\n",
       "      <th></th>\n",
       "      <th>most_recent_access</th>\n",
       "      <th>size</th>\n",
       "      <th>num_files</th>\n",
       "      <th>parent_dir</th>\n",
       "      <th>total_size_gb</th>\n",
       "      <th>tree_depth</th>\n",
       "    </tr>\n",
       "    <tr>\n",
       "      <th>6</th>\n",
       "      <th>8</th>\n",
       "      <th>9</th>\n",
       "      <th></th>\n",
       "      <th></th>\n",
       "      <th></th>\n",
       "      <th></th>\n",
       "      <th></th>\n",
       "      <th></th>\n",
       "    </tr>\n",
       "  </thead>\n",
       "  <tbody>\n",
       "    <tr>\n",
       "      <th rowspan=\"5\" valign=\"top\">178748</th>\n",
       "      <th rowspan=\"5\" valign=\"top\">Results</th>\n",
       "      <th>rfMRI_REST1_LR</th>\n",
       "      <td>2017-11-16</td>\n",
       "      <td>8.354434e+09</td>\n",
       "      <td>1534</td>\n",
       "      <td>/data/HCP/HCP_900/s3/hcp/178748/MNINonLinear/Results/rfMRI_REST1_LR</td>\n",
       "      <td>8.354</td>\n",
       "      <td>9</td>\n",
       "    </tr>\n",
       "    <tr>\n",
       "      <th>rfMRI_REST1_RL</th>\n",
       "      <td>2017-11-16</td>\n",
       "      <td>8.266014e+09</td>\n",
       "      <td>1404</td>\n",
       "      <td>/data/HCP/HCP_900/s3/hcp/178748/MNINonLinear/Results/rfMRI_REST1_RL</td>\n",
       "      <td>8.266</td>\n",
       "      <td>9</td>\n",
       "    </tr>\n",
       "    <tr>\n",
       "      <th>rfMRI_REST2_LR</th>\n",
       "      <td>2017-11-16</td>\n",
       "      <td>8.322172e+09</td>\n",
       "      <td>1484</td>\n",
       "      <td>/data/HCP/HCP_900/s3/hcp/178748/MNINonLinear/Results/rfMRI_REST2_LR</td>\n",
       "      <td>8.322</td>\n",
       "      <td>9</td>\n",
       "    </tr>\n",
       "    <tr>\n",
       "      <th>rfMRI_REST2_RL</th>\n",
       "      <td>2017-11-16</td>\n",
       "      <td>8.463622e+09</td>\n",
       "      <td>1664</td>\n",
       "      <td>/data/HCP/HCP_900/s3/hcp/178748/MNINonLinear/Results/rfMRI_REST2_RL</td>\n",
       "      <td>8.464</td>\n",
       "      <td>9</td>\n",
       "    </tr>\n",
       "    <tr>\n",
       "      <th>tfMRI_EMOTION</th>\n",
       "      <td>2017-11-16</td>\n",
       "      <td>5.491697e+08</td>\n",
       "      <td>712</td>\n",
       "      <td>/data/HCP/HCP_900/s3/hcp/178748/MNINonLinear/Results/tfMRI_EMOTION</td>\n",
       "      <td>0.549</td>\n",
       "      <td>9</td>\n",
       "    </tr>\n",
       "  </tbody>\n",
       "</table>\n",
       "</div>"
      ],
      "text/plain": [
       "                              most_recent_access          size  num_files  \\\n",
       "6      8       9                                                            \n",
       "178748 Results rfMRI_REST1_LR         2017-11-16  8.354434e+09       1534   \n",
       "               rfMRI_REST1_RL         2017-11-16  8.266014e+09       1404   \n",
       "               rfMRI_REST2_LR         2017-11-16  8.322172e+09       1484   \n",
       "               rfMRI_REST2_RL         2017-11-16  8.463622e+09       1664   \n",
       "               tfMRI_EMOTION          2017-11-16  5.491697e+08        712   \n",
       "\n",
       "                                                                                        parent_dir  \\\n",
       "6      8       9                                                                                     \n",
       "178748 Results rfMRI_REST1_LR  /data/HCP/HCP_900/s3/hcp/178748/MNINonLinear/Results/rfMRI_REST1_LR   \n",
       "               rfMRI_REST1_RL  /data/HCP/HCP_900/s3/hcp/178748/MNINonLinear/Results/rfMRI_REST1_RL   \n",
       "               rfMRI_REST2_LR  /data/HCP/HCP_900/s3/hcp/178748/MNINonLinear/Results/rfMRI_REST2_LR   \n",
       "               rfMRI_REST2_RL  /data/HCP/HCP_900/s3/hcp/178748/MNINonLinear/Results/rfMRI_REST2_RL   \n",
       "               tfMRI_EMOTION    /data/HCP/HCP_900/s3/hcp/178748/MNINonLinear/Results/tfMRI_EMOTION   \n",
       "\n",
       "                               total_size_gb  tree_depth  \n",
       "6      8       9                                          \n",
       "178748 Results rfMRI_REST1_LR          8.354           9  \n",
       "               rfMRI_REST1_RL          8.266           9  \n",
       "               rfMRI_REST2_LR          8.322           9  \n",
       "               rfMRI_REST2_RL          8.464           9  \n",
       "               tfMRI_EMOTION           0.549           9  "
      ]
     },
     "execution_count": 12,
     "metadata": {},
     "output_type": "execute_result"
    }
   ],
   "source": [
    "dfs[9].loc['','data','HCP','HCP_900','s3','hcp',:,'MNINonLinear'].head()"
   ]
  },
  {
   "cell_type": "code",
   "execution_count": 13,
   "metadata": {
    "collapsed": false
   },
   "outputs": [
    {
     "data": {
      "text/plain": [
       "array(['2017-11-16'], dtype=object)"
      ]
     },
     "execution_count": 13,
     "metadata": {},
     "output_type": "execute_result"
    }
   ],
   "source": [
    "dfs[9].loc['','data','HCP','HCP_900','s3','hcp',:,'MNINonLinear']['most_recent_access'].unique()"
   ]
  },
  {
   "cell_type": "markdown",
   "metadata": {},
   "source": [
    "### Summing the size of files/directories one level deeper that were not accessed"
   ]
  },
  {
   "cell_type": "markdown",
   "metadata": {},
   "source": [
    "Assessing at this level already filters out much of the data contained in higher directories but shows that even at this deeper level many directories were accessed across the 'MNINonLinear' tree."
   ]
  },
  {
   "cell_type": "code",
   "execution_count": 14,
   "metadata": {
    "collapsed": false
   },
   "outputs": [
    {
     "data": {
      "text/html": [
       "<div>\n",
       "<style>\n",
       "    .dataframe thead tr:only-child th {\n",
       "        text-align: right;\n",
       "    }\n",
       "\n",
       "    .dataframe thead th {\n",
       "        text-align: left;\n",
       "    }\n",
       "\n",
       "    .dataframe tbody tr th {\n",
       "        vertical-align: top;\n",
       "    }\n",
       "</style>\n",
       "<table border=\"1\" class=\"dataframe\">\n",
       "  <thead>\n",
       "    <tr style=\"text-align: right;\">\n",
       "      <th></th>\n",
       "      <th>size</th>\n",
       "      <th>num_files</th>\n",
       "      <th>total_size_gb</th>\n",
       "    </tr>\n",
       "    <tr>\n",
       "      <th>most_recent_access</th>\n",
       "      <th></th>\n",
       "      <th></th>\n",
       "      <th></th>\n",
       "    </tr>\n",
       "  </thead>\n",
       "  <tbody>\n",
       "    <tr>\n",
       "      <th>2016-02-06</th>\n",
       "      <td>4.117050e+05</td>\n",
       "      <td>8</td>\n",
       "      <td>0.000</td>\n",
       "    </tr>\n",
       "    <tr>\n",
       "      <th>2017-04-04</th>\n",
       "      <td>1.722229e+10</td>\n",
       "      <td>16226</td>\n",
       "      <td>17.178</td>\n",
       "    </tr>\n",
       "    <tr>\n",
       "      <th>2017-04-05</th>\n",
       "      <td>8.204448e+09</td>\n",
       "      <td>7830</td>\n",
       "      <td>8.183</td>\n",
       "    </tr>\n",
       "    <tr>\n",
       "      <th>2017-04-06</th>\n",
       "      <td>4.708983e+09</td>\n",
       "      <td>4172</td>\n",
       "      <td>4.696</td>\n",
       "    </tr>\n",
       "    <tr>\n",
       "      <th>2017-04-07</th>\n",
       "      <td>4.140584e+09</td>\n",
       "      <td>3892</td>\n",
       "      <td>4.130</td>\n",
       "    </tr>\n",
       "    <tr>\n",
       "      <th>2017-05-02</th>\n",
       "      <td>5.444100e+04</td>\n",
       "      <td>464</td>\n",
       "      <td>0.000</td>\n",
       "    </tr>\n",
       "    <tr>\n",
       "      <th>2017-11-16</th>\n",
       "      <td>1.037069e+12</td>\n",
       "      <td>1237293</td>\n",
       "      <td>1036.597</td>\n",
       "    </tr>\n",
       "  </tbody>\n",
       "</table>\n",
       "</div>"
      ],
      "text/plain": [
       "                            size  num_files  total_size_gb\n",
       "most_recent_access                                        \n",
       "2016-02-06          4.117050e+05          8          0.000\n",
       "2017-04-04          1.722229e+10      16226         17.178\n",
       "2017-04-05          8.204448e+09       7830          8.183\n",
       "2017-04-06          4.708983e+09       4172          4.696\n",
       "2017-04-07          4.140584e+09       3892          4.130\n",
       "2017-05-02          5.444100e+04        464          0.000\n",
       "2017-11-16          1.037069e+12    1237293       1036.597"
      ]
     },
     "execution_count": 14,
     "metadata": {},
     "output_type": "execute_result"
    }
   ],
   "source": [
    "(dfs[10].\n",
    " loc['','data','HCP','HCP_900','s3','hcp',:,'MNINonLinear'].\n",
    " drop('tree_depth',axis = 1).\n",
    " groupby('most_recent_access').\n",
    " sum()\n",
    ")"
   ]
  },
  {
   "cell_type": "code",
   "execution_count": null,
   "metadata": {
    "collapsed": true
   },
   "outputs": [],
   "source": []
  },
  {
   "cell_type": "markdown",
   "metadata": {},
   "source": [
    "### SAVE CONDA ENVIRONMENT"
   ]
  },
  {
   "cell_type": "code",
   "execution_count": 15,
   "metadata": {
    "collapsed": true
   },
   "outputs": [],
   "source": [
    "!   conda env export > hcp_characterization.yml\n",
    "# but the following should work:\n",
    "# conda create -n file_exploration_env python=3 pandas pickle"
   ]
  },
  {
   "cell_type": "code",
   "execution_count": null,
   "metadata": {
    "collapsed": true
   },
   "outputs": [],
   "source": []
  }
 ],
 "metadata": {
  "kernelspec": {
   "display_name": "Python 3",
   "language": "python",
   "name": "python3"
  },
  "language_info": {
   "codemirror_mode": {
    "name": "ipython",
    "version": 3
   },
   "file_extension": ".py",
   "mimetype": "text/x-python",
   "name": "python",
   "nbconvert_exporter": "python",
   "pygments_lexer": "ipython3",
   "version": "3.5.2"
  },
  "toc": {
   "colors": {
    "hover_highlight": "#DAA520",
    "navigate_num": "#000000",
    "navigate_text": "#333333",
    "running_highlight": "#FF0000",
    "selected_highlight": "#FFD700",
    "sidebar_border": "#EEEEEE",
    "wrapper_background": "#FFFFFF"
   },
   "moveMenuLeft": true,
   "nav_menu": {
    "height": "192px",
    "width": "252px"
   },
   "navigate_menu": true,
   "number_sections": true,
   "sideBar": true,
   "threshold": 4,
   "toc_cell": false,
   "toc_section_display": "block",
   "toc_window_display": true,
   "widenNotebook": false
  }
 },
 "nbformat": 4,
 "nbformat_minor": 2
}
