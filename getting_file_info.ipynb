{
 "cells": [
  {
   "cell_type": "code",
   "execution_count": null,
   "metadata": {},
   "outputs": [],
   "source": [
    "dir = '/data/HCP/HCP_1200/download_swarm/**/*'\n",
    "if True:\n",
    "#     -lu gives access time\n",
    "#     -d1 gives just the file/dir instead of the contents\n",
    "#     the glob pattern provides all the files/dirs\n",
    "#     the awk command turns it into tab separated output\n",
    "    !ls -lu -d1  --time-style long-iso {dir} | awk -v OFS=\"\\t\" '$1=$1' > files_list.txt\n",
    "    "
   ]
  },
  {
   "cell_type": "code",
   "execution_count": null,
   "metadata": {},
   "outputs": [],
   "source": [
    "import pandas as pd\n",
    "cols = ['perms','links','user','group','size','year','time','dir']\n",
    "df  =  pd.read_csv('files_list.txt',sep = '\\t',header=None,names=cols)\n",
    "df"
   ]
  }
 ],
 "metadata": {
  "language_info": {
   "name": "python",
   "pygments_lexer": "ipython3"
  }
 },
 "nbformat": 4,
 "nbformat_minor": 2
}
